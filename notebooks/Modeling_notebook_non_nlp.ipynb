{
 "cells": [
  {
   "cell_type": "markdown",
   "metadata": {},
   "source": [
    "# Imports"
   ]
  },
  {
   "cell_type": "code",
   "execution_count": 2,
   "metadata": {},
   "outputs": [],
   "source": [
    "import pandas as pd \n",
    "import json\n",
    "import os\n",
    "import numpy as np\n",
    "import re\n",
    "import matplotlib.pyplot as plt\n",
    "from nltk.corpus import stopwords\n",
    "from nltk.tokenize import RegexpTokenizer\n",
    "from nltk.tokenize import punkt\n",
    "import nltk\n",
    "from nltk import word_tokenize\n",
    "from sklearn.feature_extraction.text import CountVectorizer\n",
    "from sklearn.ensemble import RandomForestClassifier\n",
    "from sklearn.model_selection import train_test_split\n",
    "from sklearn.model_selection import GridSearchCV\n",
    "from sklearn.model_selection import RandomizedSearchCV\n",
    "from nltk.stem import WordNetLemmatizer \n",
    "from sklearn.feature_extraction.text import TfidfVectorizer\n",
    "from sklearn.feature_extraction.text import TfidfTransformer\n",
    "from sklearn.metrics import recall_score, accuracy_score, confusion_matrix, f1_score\n",
    "from sklearn.linear_model import LogisticRegression\n",
    "import string\n",
    "from nltk.probability import FreqDist\n",
    "import seaborn as sns\n",
    "pd.options.display.max_rows = 999\n",
    "pd.options.display.max_columns = 30\n",
    "import lexnlp as lnlp\n",
    "import src\n",
    "import importlib\n",
    "import unidecode as unidecode\n",
    "importlib.reload(src)\n",
    "%matplotlib inline\n"
   ]
  },
  {
   "cell_type": "markdown",
   "metadata": {},
   "source": [
    "# Data Formating"
   ]
  },
  {
   "cell_type": "markdown",
   "metadata": {},
   "source": [
    "## Importing SCDB file"
   ]
  },
  {
   "cell_type": "code",
   "execution_count": 15,
   "metadata": {},
   "outputs": [
    {
     "data": {
      "text/html": [
       "<div>\n",
       "<style scoped>\n",
       "    .dataframe tbody tr th:only-of-type {\n",
       "        vertical-align: middle;\n",
       "    }\n",
       "\n",
       "    .dataframe tbody tr th {\n",
       "        vertical-align: top;\n",
       "    }\n",
       "\n",
       "    .dataframe thead th {\n",
       "        text-align: right;\n",
       "    }\n",
       "</style>\n",
       "<table border=\"1\" class=\"dataframe\">\n",
       "  <thead>\n",
       "    <tr style=\"text-align: right;\">\n",
       "      <th></th>\n",
       "      <th>caseId</th>\n",
       "      <th>docketId</th>\n",
       "      <th>caseIssuesId</th>\n",
       "      <th>voteId</th>\n",
       "      <th>dateDecision</th>\n",
       "      <th>decisionType</th>\n",
       "      <th>usCite</th>\n",
       "      <th>sctCite</th>\n",
       "      <th>ledCite</th>\n",
       "      <th>lexisCite</th>\n",
       "      <th>term</th>\n",
       "      <th>naturalCourt</th>\n",
       "      <th>chief</th>\n",
       "      <th>docket</th>\n",
       "      <th>caseName</th>\n",
       "      <th>...</th>\n",
       "      <th>voteUnclear</th>\n",
       "      <th>issue</th>\n",
       "      <th>issueArea</th>\n",
       "      <th>decisionDirection</th>\n",
       "      <th>decisionDirectionDissent</th>\n",
       "      <th>authorityDecision1</th>\n",
       "      <th>authorityDecision2</th>\n",
       "      <th>lawType</th>\n",
       "      <th>lawSupp</th>\n",
       "      <th>lawMinor</th>\n",
       "      <th>majOpinWriter</th>\n",
       "      <th>majOpinAssigner</th>\n",
       "      <th>splitVote</th>\n",
       "      <th>majVotes</th>\n",
       "      <th>minVotes</th>\n",
       "    </tr>\n",
       "  </thead>\n",
       "  <tbody>\n",
       "    <tr>\n",
       "      <th>0</th>\n",
       "      <td>1946-001</td>\n",
       "      <td>1946-001-01</td>\n",
       "      <td>1946-001-01-01</td>\n",
       "      <td>1946-001-01-01-01</td>\n",
       "      <td>11/18/1946</td>\n",
       "      <td>1</td>\n",
       "      <td>329 U.S. 1</td>\n",
       "      <td>67 S. Ct. 6</td>\n",
       "      <td>91 L. Ed. 3</td>\n",
       "      <td>1946 U.S. LEXIS 1724</td>\n",
       "      <td>1946</td>\n",
       "      <td>1301</td>\n",
       "      <td>Vinson</td>\n",
       "      <td>24</td>\n",
       "      <td>HALLIBURTON OIL WELL CEMENTING CO. v. WALKER e...</td>\n",
       "      <td>...</td>\n",
       "      <td>0.0</td>\n",
       "      <td>80180.0</td>\n",
       "      <td>8.0</td>\n",
       "      <td>2.0</td>\n",
       "      <td>0.0</td>\n",
       "      <td>4.0</td>\n",
       "      <td>NaN</td>\n",
       "      <td>6.0</td>\n",
       "      <td>600.0</td>\n",
       "      <td>35 U.S.C. § 33</td>\n",
       "      <td>78.0</td>\n",
       "      <td>78.0</td>\n",
       "      <td>1</td>\n",
       "      <td>8</td>\n",
       "      <td>1</td>\n",
       "    </tr>\n",
       "    <tr>\n",
       "      <th>1</th>\n",
       "      <td>1946-002</td>\n",
       "      <td>1946-002-01</td>\n",
       "      <td>1946-002-01-01</td>\n",
       "      <td>1946-002-01-01-01</td>\n",
       "      <td>11/18/1946</td>\n",
       "      <td>1</td>\n",
       "      <td>329 U.S. 14</td>\n",
       "      <td>67 S. Ct. 13</td>\n",
       "      <td>91 L. Ed. 12</td>\n",
       "      <td>1946 U.S. LEXIS 1725</td>\n",
       "      <td>1946</td>\n",
       "      <td>1301</td>\n",
       "      <td>Vinson</td>\n",
       "      <td>12</td>\n",
       "      <td>CLEVELAND v. UNITED STATES</td>\n",
       "      <td>...</td>\n",
       "      <td>0.0</td>\n",
       "      <td>10500.0</td>\n",
       "      <td>1.0</td>\n",
       "      <td>1.0</td>\n",
       "      <td>0.0</td>\n",
       "      <td>4.0</td>\n",
       "      <td>NaN</td>\n",
       "      <td>6.0</td>\n",
       "      <td>600.0</td>\n",
       "      <td>18 U.S.C. § 398</td>\n",
       "      <td>81.0</td>\n",
       "      <td>87.0</td>\n",
       "      <td>1</td>\n",
       "      <td>6</td>\n",
       "      <td>3</td>\n",
       "    </tr>\n",
       "    <tr>\n",
       "      <th>2</th>\n",
       "      <td>1946-003</td>\n",
       "      <td>1946-003-01</td>\n",
       "      <td>1946-003-01-01</td>\n",
       "      <td>1946-003-01-01-01</td>\n",
       "      <td>11/18/1946</td>\n",
       "      <td>1</td>\n",
       "      <td>329 U.S. 29</td>\n",
       "      <td>67 S. Ct. 1</td>\n",
       "      <td>91 L. Ed. 22</td>\n",
       "      <td>1946 U.S. LEXIS 3037</td>\n",
       "      <td>1946</td>\n",
       "      <td>1301</td>\n",
       "      <td>Vinson</td>\n",
       "      <td>21</td>\n",
       "      <td>CHAMPLIN REFINING CO. v. UNITED STATES ET AL.</td>\n",
       "      <td>...</td>\n",
       "      <td>0.0</td>\n",
       "      <td>80250.0</td>\n",
       "      <td>8.0</td>\n",
       "      <td>2.0</td>\n",
       "      <td>0.0</td>\n",
       "      <td>1.0</td>\n",
       "      <td>NaN</td>\n",
       "      <td>2.0</td>\n",
       "      <td>207.0</td>\n",
       "      <td>NaN</td>\n",
       "      <td>84.0</td>\n",
       "      <td>78.0</td>\n",
       "      <td>1</td>\n",
       "      <td>5</td>\n",
       "      <td>4</td>\n",
       "    </tr>\n",
       "    <tr>\n",
       "      <th>3</th>\n",
       "      <td>1946-004</td>\n",
       "      <td>1946-004-01</td>\n",
       "      <td>1946-004-01-01</td>\n",
       "      <td>1946-004-01-01-01</td>\n",
       "      <td>11/25/1946</td>\n",
       "      <td>7</td>\n",
       "      <td>329 U.S. 40</td>\n",
       "      <td>67 S. Ct. 167</td>\n",
       "      <td>91 L. Ed. 29</td>\n",
       "      <td>1946 U.S. LEXIS 1696</td>\n",
       "      <td>1946</td>\n",
       "      <td>1301</td>\n",
       "      <td>Vinson</td>\n",
       "      <td>26</td>\n",
       "      <td>UNITED STATES v. ALCEA BAND OF TILLAMOOKS ET AL.</td>\n",
       "      <td>...</td>\n",
       "      <td>0.0</td>\n",
       "      <td>20150.0</td>\n",
       "      <td>2.0</td>\n",
       "      <td>2.0</td>\n",
       "      <td>0.0</td>\n",
       "      <td>4.0</td>\n",
       "      <td>NaN</td>\n",
       "      <td>6.0</td>\n",
       "      <td>600.0</td>\n",
       "      <td>49 Stat. 801</td>\n",
       "      <td>87.0</td>\n",
       "      <td>87.0</td>\n",
       "      <td>1</td>\n",
       "      <td>5</td>\n",
       "      <td>3</td>\n",
       "    </tr>\n",
       "    <tr>\n",
       "      <th>4</th>\n",
       "      <td>1946-005</td>\n",
       "      <td>1946-005-01</td>\n",
       "      <td>1946-005-01-01</td>\n",
       "      <td>1946-005-01-01-01</td>\n",
       "      <td>11/25/1946</td>\n",
       "      <td>1</td>\n",
       "      <td>329 U.S. 64</td>\n",
       "      <td>67 S. Ct. 154</td>\n",
       "      <td>91 L. Ed. 44</td>\n",
       "      <td>1946 U.S. LEXIS 2997</td>\n",
       "      <td>1946</td>\n",
       "      <td>1301</td>\n",
       "      <td>Vinson</td>\n",
       "      <td>50</td>\n",
       "      <td>UNITED STATES v. HOWARD P. FOLEY CO., INC.</td>\n",
       "      <td>...</td>\n",
       "      <td>0.0</td>\n",
       "      <td>80060.0</td>\n",
       "      <td>8.0</td>\n",
       "      <td>2.0</td>\n",
       "      <td>0.0</td>\n",
       "      <td>7.0</td>\n",
       "      <td>NaN</td>\n",
       "      <td>NaN</td>\n",
       "      <td>NaN</td>\n",
       "      <td>NaN</td>\n",
       "      <td>78.0</td>\n",
       "      <td>87.0</td>\n",
       "      <td>1</td>\n",
       "      <td>6</td>\n",
       "      <td>3</td>\n",
       "    </tr>\n",
       "  </tbody>\n",
       "</table>\n",
       "<p>5 rows × 53 columns</p>\n",
       "</div>"
      ],
      "text/plain": [
       "     caseId     docketId    caseIssuesId             voteId dateDecision  \\\n",
       "0  1946-001  1946-001-01  1946-001-01-01  1946-001-01-01-01   11/18/1946   \n",
       "1  1946-002  1946-002-01  1946-002-01-01  1946-002-01-01-01   11/18/1946   \n",
       "2  1946-003  1946-003-01  1946-003-01-01  1946-003-01-01-01   11/18/1946   \n",
       "3  1946-004  1946-004-01  1946-004-01-01  1946-004-01-01-01   11/25/1946   \n",
       "4  1946-005  1946-005-01  1946-005-01-01  1946-005-01-01-01   11/25/1946   \n",
       "\n",
       "   decisionType       usCite        sctCite       ledCite  \\\n",
       "0             1   329 U.S. 1    67 S. Ct. 6   91 L. Ed. 3   \n",
       "1             1  329 U.S. 14   67 S. Ct. 13  91 L. Ed. 12   \n",
       "2             1  329 U.S. 29    67 S. Ct. 1  91 L. Ed. 22   \n",
       "3             7  329 U.S. 40  67 S. Ct. 167  91 L. Ed. 29   \n",
       "4             1  329 U.S. 64  67 S. Ct. 154  91 L. Ed. 44   \n",
       "\n",
       "              lexisCite  term  naturalCourt   chief docket  \\\n",
       "0  1946 U.S. LEXIS 1724  1946          1301  Vinson     24   \n",
       "1  1946 U.S. LEXIS 1725  1946          1301  Vinson     12   \n",
       "2  1946 U.S. LEXIS 3037  1946          1301  Vinson     21   \n",
       "3  1946 U.S. LEXIS 1696  1946          1301  Vinson     26   \n",
       "4  1946 U.S. LEXIS 2997  1946          1301  Vinson     50   \n",
       "\n",
       "                                            caseName  ... voteUnclear  \\\n",
       "0  HALLIBURTON OIL WELL CEMENTING CO. v. WALKER e...  ...         0.0   \n",
       "1                         CLEVELAND v. UNITED STATES  ...         0.0   \n",
       "2      CHAMPLIN REFINING CO. v. UNITED STATES ET AL.  ...         0.0   \n",
       "3   UNITED STATES v. ALCEA BAND OF TILLAMOOKS ET AL.  ...         0.0   \n",
       "4         UNITED STATES v. HOWARD P. FOLEY CO., INC.  ...         0.0   \n",
       "\n",
       "     issue  issueArea  decisionDirection  decisionDirectionDissent  \\\n",
       "0  80180.0        8.0                2.0                       0.0   \n",
       "1  10500.0        1.0                1.0                       0.0   \n",
       "2  80250.0        8.0                2.0                       0.0   \n",
       "3  20150.0        2.0                2.0                       0.0   \n",
       "4  80060.0        8.0                2.0                       0.0   \n",
       "\n",
       "   authorityDecision1  authorityDecision2  lawType  lawSupp         lawMinor  \\\n",
       "0                 4.0                 NaN      6.0    600.0   35 U.S.C. § 33   \n",
       "1                 4.0                 NaN      6.0    600.0  18 U.S.C. § 398   \n",
       "2                 1.0                 NaN      2.0    207.0              NaN   \n",
       "3                 4.0                 NaN      6.0    600.0     49 Stat. 801   \n",
       "4                 7.0                 NaN      NaN      NaN              NaN   \n",
       "\n",
       "   majOpinWriter  majOpinAssigner  splitVote  majVotes  minVotes  \n",
       "0           78.0             78.0          1         8         1  \n",
       "1           81.0             87.0          1         6         3  \n",
       "2           84.0             78.0          1         5         4  \n",
       "3           87.0             87.0          1         5         3  \n",
       "4           78.0             87.0          1         6         3  \n",
       "\n",
       "[5 rows x 53 columns]"
      ]
     },
     "execution_count": 15,
     "metadata": {},
     "output_type": "execute_result"
    }
   ],
   "source": [
    "df = pd.read_csv('../data/SCDB_2020_01_caseCentered_Citation.csv',encoding='cp1252' ) #importing data\n",
    "df.head() #checking the DataFrame"
   ]
  },
  {
   "cell_type": "markdown",
   "metadata": {},
   "source": [
    "## Filtering"
   ]
  },
  {
   "cell_type": "code",
   "execution_count": 16,
   "metadata": {},
   "outputs": [],
   "source": [
    "#Filtering down to close votes and removing cases where who \n",
    "#the outcome was favorable for was unclear.\n",
    "df = df[df.majVotes < 7]\n",
    "df = df[df.partyWinning != 2]"
   ]
  },
  {
   "cell_type": "markdown",
   "metadata": {},
   "source": [
    "## Extracting Important Features Based on my EDA"
   ]
  },
  {
   "cell_type": "markdown",
   "metadata": {},
   "source": [
    "Since this data is almost all categorical data there are many Nans, they also decided to use floats for some reason. I'm going to extract my features then drop nans to preserve more rows."
   ]
  },
  {
   "cell_type": "code",
   "execution_count": 37,
   "metadata": {},
   "outputs": [],
   "source": [
    "#going down to just the factors I want to use based on EDA and intuition\n",
    "#ie not including variable only known after the opinion is released etc...\n",
    "df = df[['lcDispositionDirection', 'issue', 'naturalCourt', 'jurisdiction', 'caseSource', 'petitioner','partyWinning']]\n"
   ]
  },
  {
   "cell_type": "markdown",
   "metadata": {},
   "source": [
    "## Cleaning"
   ]
  },
  {
   "cell_type": "code",
   "execution_count": 38,
   "metadata": {},
   "outputs": [],
   "source": [
    "#dropping nans\n",
    "df.dropna(inplace= True)"
   ]
  },
  {
   "cell_type": "code",
   "execution_count": 39,
   "metadata": {},
   "outputs": [
    {
     "name": "stdout",
     "output_type": "stream",
     "text": [
      "<class 'pandas.core.frame.DataFrame'>\n",
      "Int64Index: 3392 entries, 1 to 8662\n",
      "Data columns (total 7 columns):\n",
      "lcDispositionDirection    3392 non-null float64\n",
      "issue                     3392 non-null float64\n",
      "naturalCourt              3392 non-null int64\n",
      "jurisdiction              3392 non-null float64\n",
      "caseSource                3392 non-null float64\n",
      "petitioner                3392 non-null int64\n",
      "partyWinning              3392 non-null float64\n",
      "dtypes: float64(5), int64(2)\n",
      "memory usage: 212.0 KB\n"
     ]
    }
   ],
   "source": [
    "#checking for floats\n",
    "df.info()"
   ]
  },
  {
   "cell_type": "code",
   "execution_count": 40,
   "metadata": {},
   "outputs": [],
   "source": [
    "for column in df.columns:\n",
    "    df[column] = df[column].apply(lambda x: int(x))"
   ]
  },
  {
   "cell_type": "code",
   "execution_count": 41,
   "metadata": {},
   "outputs": [
    {
     "name": "stdout",
     "output_type": "stream",
     "text": [
      "<class 'pandas.core.frame.DataFrame'>\n",
      "Int64Index: 3392 entries, 1 to 8662\n",
      "Data columns (total 7 columns):\n",
      "lcDispositionDirection    3392 non-null int64\n",
      "issue                     3392 non-null int64\n",
      "naturalCourt              3392 non-null int64\n",
      "jurisdiction              3392 non-null int64\n",
      "caseSource                3392 non-null int64\n",
      "petitioner                3392 non-null int64\n",
      "partyWinning              3392 non-null int64\n",
      "dtypes: int64(7)\n",
      "memory usage: 212.0 KB\n"
     ]
    }
   ],
   "source": [
    "#making sure it worked \n",
    "df.info()"
   ]
  },
  {
   "cell_type": "code",
   "execution_count": 44,
   "metadata": {},
   "outputs": [],
   "source": [
    "#assigning my target to y and the predictive variables to y \n",
    "X = df.drop(['partyWinning'], axis = 1)\n",
    "Y = df['partyWinning']"
   ]
  },
  {
   "cell_type": "code",
   "execution_count": 45,
   "metadata": {},
   "outputs": [],
   "source": [
    "#train-test split\n",
    "X_train, X_test, y_train, y_test = train_test_split(X, Y, test_size=0.20, random_state=34)"
   ]
  },
  {
   "cell_type": "markdown",
   "metadata": {},
   "source": [
    "# Feature Creation"
   ]
  },
  {
   "cell_type": "markdown",
   "metadata": {},
   "source": [
    "## Dummy Variables"
   ]
  },
  {
   "cell_type": "markdown",
   "metadata": {},
   "source": [
    "# Logistic Regression Baseline"
   ]
  },
  {
   "cell_type": "markdown",
   "metadata": {},
   "source": [
    "For my baseline model, I will use a logistic regression with a simple penalty and a balanced class weight. I am not expecting too much, but it is an easy, interpretable model."
   ]
  },
  {
   "cell_type": "code",
   "execution_count": 46,
   "metadata": {},
   "outputs": [],
   "source": [
    "#instancing a logistic regression model \n",
    "lgr = LogisticRegression(penalty = 'l2', class_weight= 'balanced')"
   ]
  },
  {
   "cell_type": "code",
   "execution_count": 47,
   "metadata": {},
   "outputs": [
    {
     "data": {
      "text/plain": [
       "LogisticRegression(class_weight='balanced')"
      ]
     },
     "execution_count": 47,
     "metadata": {},
     "output_type": "execute_result"
    }
   ],
   "source": [
    "#fitting \n",
    "lgr.fit(X_train, y_train)"
   ]
  },
  {
   "cell_type": "code",
   "execution_count": 48,
   "metadata": {},
   "outputs": [],
   "source": [
    "baseline_preds = lgr.predict(X_test)\n",
    "baseline_preds_t = lgr.predict(X_train)"
   ]
  },
  {
   "cell_type": "code",
   "execution_count": 52,
   "metadata": {},
   "outputs": [],
   "source": [
    "lgr_test_accuracy = accuracy_score(baseline_preds, y_test)\n",
    "lgr_test_f1 = f1_score(baseline_preds, y_test)"
   ]
  },
  {
   "cell_type": "markdown",
   "metadata": {},
   "source": [
    "### Evaulating the Test Predictions"
   ]
  },
  {
   "cell_type": "code",
   "execution_count": 56,
   "metadata": {},
   "outputs": [
    {
     "name": "stdout",
     "output_type": "stream",
     "text": [
      "Logistic Regression\n",
      "Testing Accuracy: 0.4948\n",
      "\n",
      "F1 Score: 0.5457\n"
     ]
    }
   ],
   "source": [
    "print('Logistic Regression')\n",
    "print(\"Testing Accuracy: {:.4}\".format(lgr_test_accuracy))\n",
    "print()\n",
    "print(\"F1 Score: {:.4}\".format(lgr_test_f1))"
   ]
  },
  {
   "cell_type": "code",
   "execution_count": 55,
   "metadata": {},
   "outputs": [
    {
     "name": "stdout",
     "output_type": "stream",
     "text": [
      "True Positives: 206\n",
      "True Negatives: 130\n",
      " False Positives: 119\n",
      " False Negatives: 224\n",
      "\n"
     ]
    }
   ],
   "source": [
    "confusion = confusion_matrix(y_test, baseline_preds)#generating a confusion matrix\n",
    "TP = confusion[1, 1]\n",
    "TN = confusion[0, 0]\n",
    "FP = confusion[0, 1]\n",
    "FN = confusion[1, 0]\n",
    "#printing it in the format which I find most readable, rather than the graphic version\n",
    "print( f'True Positives: {TP}\\n'\n",
    "       f'True Negatives: {TN}\\n', \n",
    "      f'False Positives: {FP}\\n',\n",
    "      f'False Negatives: {FN}\\n')"
   ]
  },
  {
   "cell_type": "markdown",
   "metadata": {},
   "source": [
    "### Evaulating the Training predictions"
   ]
  },
  {
   "cell_type": "code",
   "execution_count": 58,
   "metadata": {},
   "outputs": [],
   "source": [
    "lgr_train_accuracy = accuracy_score(baseline_preds_t, y_train)\n",
    "lgr_train_f1 = f1_score(baseline_preds_t, y_train)"
   ]
  },
  {
   "cell_type": "code",
   "execution_count": 59,
   "metadata": {},
   "outputs": [
    {
     "name": "stdout",
     "output_type": "stream",
     "text": [
      "Logistic Regression\n",
      "Testing Accuracy: 0.5076\n",
      "\n",
      "F1 Score: 0.5371\n"
     ]
    }
   ],
   "source": [
    "print('Logistic Regression')\n",
    "print(\"Training Accuracy: {:.4}\".format(lgr_train_accuracy))\n",
    "print()\n",
    "print(\"F1 Score: {:.4}\".format(lgr_train_f1))\n"
   ]
  },
  {
   "cell_type": "code",
   "execution_count": 60,
   "metadata": {},
   "outputs": [
    {
     "name": "stdout",
     "output_type": "stream",
     "text": [
      "True Positives: 775\n",
      "True Negatives: 602\n",
      " False Positives: 525\n",
      " False Negatives: 811\n",
      "\n"
     ]
    }
   ],
   "source": [
    "confusion = confusion_matrix(y_train, baseline_preds_t)#generating a confusion matrix\n",
    "TP = confusion[1, 1]\n",
    "TN = confusion[0, 0]\n",
    "FP = confusion[0, 1]\n",
    "FN = confusion[1, 0]\n",
    "#printing it in the format which I find most readable, rather than the graphic version\n",
    "print( f'True Positives: {TP}\\n'\n",
    "       f'True Negatives: {TN}\\n', \n",
    "      f'False Positives: {FP}\\n',\n",
    "      f'False Negatives: {FN}\\n')"
   ]
  },
  {
   "cell_type": "markdown",
   "metadata": {},
   "source": [
    "## Analysis"
   ]
  },
  {
   "cell_type": "markdown",
   "metadata": {},
   "source": [
    "The baseline model does not have great accuracy, but this is not that surprising for a base line logistic regression. It's also not overfit at all, as it performs equally poorly on the test and the train set."
   ]
  },
  {
   "cell_type": "markdown",
   "metadata": {},
   "source": [
    "## Assesing the Features"
   ]
  },
  {
   "cell_type": "code",
   "execution_count": 126,
   "metadata": {},
   "outputs": [
    {
     "data": {
      "image/png": "[encoded data removed]",
      "text/plain": [
       "<Figure size 1152x576 with 1 Axes>"
      ]
     },
     "metadata": {},
     "output_type": "display_data"
    }
   ],
   "source": [
    "feature_importance = lgr.coef_[0]\n",
    "feature_importance = 100.0 * (feature_importance / feature_importance.max())\n",
    "sorted_idx = np.argsort(feature_importance)\n",
    "pos = np.arange(sorted_idx.shape[0]) + .5\n",
    "plt.style.use(['fivethirtyeight']) #making my graphs purdy\n",
    "plt.style.use(['seaborn-poster'])\n",
    "featfig = plt.figure(figsize = (16,8))\n",
    "featax = featfig.add_subplot(1, 1, 1)\n",
    "featax.barh(pos, feature_importance[sorted_idx], align='center')\n",
    "featax.set_title(\"Relative Feature Importance\", size = 30, style = 'oblique')\n",
    "featax.set_yticks(pos)\n",
    "featax.set_yticklabels(np.array(X.columns)[sorted_idx], fontsize=20, style = 'italic')\n",
    "plt.xticks(style = 'italic', size = 20)\n",
    "plt.grid(axis = 'x')\n",
    "featfig.tight_layout()\n",
    "plt.savefig('most important features.png')"
   ]
  },
  {
   "cell_type": "markdown",
   "metadata": {},
   "source": [
    "# RFC"
   ]
  },
  {
   "cell_type": "markdown",
   "metadata": {},
   "source": [
    "A Random Forest Classifier is a good for categorization models and will naturally address the mild class imbalance."
   ]
  },
  {
   "cell_type": "code",
   "execution_count": 64,
   "metadata": {},
   "outputs": [],
   "source": [
    "#instantiating the model\n",
    "rfc = RandomForestClassifier(n_estimators=100, random_state=0, class_weight= 'balanced')"
   ]
  },
  {
   "cell_type": "code",
   "execution_count": 65,
   "metadata": {},
   "outputs": [
    {
     "data": {
      "text/plain": [
       "RandomForestClassifier(class_weight='balanced', random_state=0)"
      ]
     },
     "execution_count": 65,
     "metadata": {},
     "output_type": "execute_result"
    }
   ],
   "source": [
    "#fitting the model\n",
    "rfc.fit(X_train, y_train)"
   ]
  },
  {
   "cell_type": "code",
   "execution_count": 94,
   "metadata": {},
   "outputs": [],
   "source": [
    "# making predictions\n",
    "rfc_preds = rfc.predict(X_test)\n",
    "rfc_preds_t = rfc.predict(X_train)"
   ]
  },
  {
   "cell_type": "markdown",
   "metadata": {},
   "source": [
    "### Evaulating the Test Predictions"
   ]
  },
  {
   "cell_type": "code",
   "execution_count": 73,
   "metadata": {},
   "outputs": [],
   "source": [
    "rfc_test_accuracy = accuracy_score(rfc_preds, y_test)\n",
    "rfc_test_f1 = f1_score(rfc_preds, y_test)"
   ]
  },
  {
   "cell_type": "code",
   "execution_count": 76,
   "metadata": {},
   "outputs": [
    {
     "name": "stdout",
     "output_type": "stream",
     "text": [
      "Untuned Random Forest Classifier\n",
      "Testing Accuracy: 0.6082\n",
      "\n",
      "F1 Score: 0.7011\n"
     ]
    }
   ],
   "source": [
    "print('Untuned Random Forest Classifier')\n",
    "print(\"Testing Accuracy: {:.4}\".format(rfc_test_accuracy))\n",
    "print()\n",
    "print(\"F1 Score: {:.4}\".format(rfc_test_f1))"
   ]
  },
  {
   "cell_type": "code",
   "execution_count": 77,
   "metadata": {},
   "outputs": [
    {
     "name": "stdout",
     "output_type": "stream",
     "text": [
      "True Positives: 312\n",
      "True Negatives: 101\n",
      " False Positives: 148\n",
      " False Negatives: 118\n",
      "\n"
     ]
    }
   ],
   "source": [
    "confusion = confusion_matrix(y_test, rfc_preds)\n",
    "TP = confusion[1, 1]\n",
    "TN = confusion[0, 0]\n",
    "FP = confusion[0, 1]\n",
    "FN = confusion[1, 0]\n",
    "print( f'True Positives: {TP}\\n'\n",
    "       f'True Negatives: {TN}\\n', \n",
    "      f'False Positives: {FP}\\n',\n",
    "      f'False Negatives: {FN}\\n')"
   ]
  },
  {
   "cell_type": "markdown",
   "metadata": {},
   "source": [
    "### Evaualting the Training Predictions"
   ]
  },
  {
   "cell_type": "code",
   "execution_count": 80,
   "metadata": {},
   "outputs": [],
   "source": [
    "rfc_train_accuracy = accuracy_score(rfc_preds_t, y_train)\n",
    "rfc_test_f1 = f1_score(rfc_preds_t, y_train)"
   ]
  },
  {
   "cell_type": "code",
   "execution_count": 81,
   "metadata": {},
   "outputs": [
    {
     "name": "stdout",
     "output_type": "stream",
     "text": [
      "Untuned Random Forest Classifier\n",
      "Training Accuracy: 0.9849\n",
      "\n",
      "F1 Score: 0.7011\n"
     ]
    }
   ],
   "source": [
    "print('Untuned Random Forest Classifier')\n",
    "print(\"Training Accuracy: {:.4}\".format(rfc_train_accuracy))\n",
    "print()\n",
    "print(\"F1 Score: {:.4}\".format(rfc_train_f1))"
   ]
  },
  {
   "cell_type": "code",
   "execution_count": 83,
   "metadata": {},
   "outputs": [
    {
     "name": "stdout",
     "output_type": "stream",
     "text": [
      "True Positives: 1560\n",
      "True Negatives: 1112\n",
      " False Positives: 15\n",
      " False Negatives: 26\n",
      "\n"
     ]
    }
   ],
   "source": [
    "confusion = confusion_matrix(y_train, rfc_preds_t)\n",
    "TP = confusion[1, 1]\n",
    "TN = confusion[0, 0]\n",
    "FP = confusion[0, 1]\n",
    "FN = confusion[1, 0]\n",
    "print( f'True Positives: {TP}\\n'\n",
    "       f'True Negatives: {TN}\\n', \n",
    "      f'False Positives: {FP}\\n',\n",
    "      f'False Negatives: {FN}\\n')"
   ]
  },
  {
   "cell_type": "markdown",
   "metadata": {},
   "source": [
    "## Analysis"
   ]
  },
  {
   "cell_type": "markdown",
   "metadata": {},
   "source": [
    "While more accutate then the logistic regression, this model is extremely overfit to the training data. Lets do a cross validated gridsearch to see if we can reduce the variance."
   ]
  },
  {
   "cell_type": "markdown",
   "metadata": {},
   "source": [
    "## Tuning hyper parameters"
   ]
  },
  {
   "cell_type": "code",
   "execution_count": 84,
   "metadata": {},
   "outputs": [],
   "source": [
    "from sklearn.model_selection import GridSearchCV#importing the gridsearch module"
   ]
  },
  {
   "cell_type": "code",
   "execution_count": 85,
   "metadata": {},
   "outputs": [],
   "source": [
    "param_grid = { \n",
    "    'n_estimators': [100, 150, 200, 250],\n",
    "    'criterion': ['gini'],\n",
    "    'max_depth': range(9,15),\n",
    "    'max_features': ['auto']\n",
    "}#the hyper parameters I will test"
   ]
  },
  {
   "cell_type": "code",
   "execution_count": 86,
   "metadata": {},
   "outputs": [],
   "source": [
    "#instanting the search\n",
    "grid_tree = GridSearchCV(RandomForestClassifier(), param_grid, cv=10, scoring='accuracy', verbose=1, n_jobs=-1)"
   ]
  },
  {
   "cell_type": "code",
   "execution_count": 87,
   "metadata": {},
   "outputs": [
    {
     "name": "stdout",
     "output_type": "stream",
     "text": [
      "Fitting 10 folds for each of 24 candidates, totalling 240 fits\n"
     ]
    },
    {
     "name": "stderr",
     "output_type": "stream",
     "text": [
      "[Parallel(n_jobs=-1)]: Using backend LokyBackend with 4 concurrent workers.\n",
      "[Parallel(n_jobs=-1)]: Done  42 tasks      | elapsed:   17.9s\n",
      "[Parallel(n_jobs=-1)]: Done 192 tasks      | elapsed:  1.1min\n",
      "[Parallel(n_jobs=-1)]: Done 240 out of 240 | elapsed:  1.4min finished\n"
     ]
    },
    {
     "data": {
      "text/plain": [
       "GridSearchCV(cv=10, estimator=RandomForestClassifier(), n_jobs=-1,\n",
       "             param_grid={'criterion': ['gini'], 'max_depth': range(9, 15),\n",
       "                         'max_features': ['auto'],\n",
       "                         'n_estimators': [100, 150, 200, 250]},\n",
       "             scoring='accuracy', verbose=1)"
      ]
     },
     "execution_count": 87,
     "metadata": {},
     "output_type": "execute_result"
    }
   ],
   "source": [
    "#fitting\n",
    "grid_tree.fit(X_train, y_train)"
   ]
  },
  {
   "cell_type": "code",
   "execution_count": 93,
   "metadata": {},
   "outputs": [],
   "source": [
    "#making predictions\n",
    "grfc_preds = grid_tree.predict(X_test)\n",
    "grfc_preds_t = grid_tree.predict(X_train)"
   ]
  },
  {
   "cell_type": "markdown",
   "metadata": {},
   "source": [
    "### Evaulating the Testing Prediction"
   ]
  },
  {
   "cell_type": "code",
   "execution_count": 90,
   "metadata": {},
   "outputs": [],
   "source": [
    "grfc_test_accuracy = accuracy_score(grfc_preds, y_test)\n",
    "grfc_test_f1 = f1_score(grfc_preds, y_test)"
   ]
  },
  {
   "cell_type": "code",
   "execution_count": 91,
   "metadata": {},
   "outputs": [
    {
     "name": "stdout",
     "output_type": "stream",
     "text": [
      "Untuned Random Forest Classifier\n",
      "Testing Accuracy: 0.6318\n",
      "\n",
      "F1 Score: 0.7329\n"
     ]
    }
   ],
   "source": [
    "print('Untuned Random Forest Classifier')\n",
    "print(\"Testing Accuracy: {:.4}\".format(grfc_test_accuracy))\n",
    "print()\n",
    "print(\"F1 Score: {:.4}\".format(grfc_test_f1))"
   ]
  },
  {
   "cell_type": "code",
   "execution_count": 99,
   "metadata": {},
   "outputs": [
    {
     "name": "stdout",
     "output_type": "stream",
     "text": [
      "True Positives: 343\n",
      "True Negatives: 86\n",
      " False Positives: 163\n",
      " False Negatives: 87\n",
      "\n"
     ]
    }
   ],
   "source": [
    "confusion = confusion_matrix(y_test, grfc_preds)\n",
    "TP = confusion[1, 1]\n",
    "TN = confusion[0, 0]\n",
    "FP = confusion[0, 1]\n",
    "FN = confusion[1, 0]\n",
    "print( f'True Positives: {TP}\\n'\n",
    "       f'True Negatives: {TN}\\n', \n",
    "      f'False Positives: {FP}\\n',\n",
    "      f'False Negatives: {FN}\\n')"
   ]
  },
  {
   "cell_type": "markdown",
   "metadata": {},
   "source": [
    "### Evaulating the Training Predictions"
   ]
  },
  {
   "cell_type": "code",
   "execution_count": 95,
   "metadata": {},
   "outputs": [],
   "source": [
    "grfc_train_accuracy = accuracy_score(grfc_preds_t, y_train)\n",
    "grfc_train_f1 = f1_score(grfc_preds_t, y_train)"
   ]
  },
  {
   "cell_type": "code",
   "execution_count": 97,
   "metadata": {},
   "outputs": [
    {
     "name": "stdout",
     "output_type": "stream",
     "text": [
      "Untuned Random Forest Classifier\n",
      "Testing Accuracy: 0.8087\n",
      "\n",
      "F1 Score: 0.7329\n"
     ]
    }
   ],
   "source": [
    "print('Untuned Random Forest Classifier')\n",
    "print(\"Testing Accuracy: {:.4}\".format(grfc_train_accuracy))\n",
    "print()\n",
    "print(\"F1 Score: {:.4}\".format(grfc_test_f1))"
   ]
  },
  {
   "cell_type": "code",
   "execution_count": 98,
   "metadata": {},
   "outputs": [
    {
     "name": "stdout",
     "output_type": "stream",
     "text": [
      "True Positives: 1510\n",
      "True Negatives: 684\n",
      " False Positives: 443\n",
      " False Negatives: 76\n",
      "\n"
     ]
    }
   ],
   "source": [
    "confusion = confusion_matrix(y_train, grfc_preds_t)\n",
    "TP = confusion[1, 1]\n",
    "TN = confusion[0, 0]\n",
    "FP = confusion[0, 1]\n",
    "FN = confusion[1, 0]\n",
    "print( f'True Positives: {TP}\\n'\n",
    "       f'True Negatives: {TN}\\n', \n",
    "      f'False Positives: {FP}\\n',\n",
    "      f'False Negatives: {FN}\\n')"
   ]
  },
  {
   "cell_type": "markdown",
   "metadata": {},
   "source": [
    "## Analysis"
   ]
  },
  {
   "cell_type": "markdown",
   "metadata": {},
   "source": [
    "This model is slightly more accurate and has a higher f1 score, but worringly, is also fairly overfit to the trainin data. Lets check the best hyper parameters and see if they are at the extremes of our ranges."
   ]
  },
  {
   "cell_type": "code",
   "execution_count": 100,
   "metadata": {},
   "outputs": [
    {
     "data": {
      "text/plain": [
       "{'criterion': 'gini',\n",
       " 'max_depth': 9,\n",
       " 'max_features': 'auto',\n",
       " 'n_estimators': 200}"
      ]
     },
     "execution_count": 100,
     "metadata": {},
     "output_type": "execute_result"
    }
   ],
   "source": [
    "grid_tree.best_params_"
   ]
  },
  {
   "cell_type": "markdown",
   "metadata": {},
   "source": [
    "Max depth is at the bottom of our range, lets run it again with lower possibiliies "
   ]
  },
  {
   "cell_type": "markdown",
   "metadata": {},
   "source": [
    "## Further Tuning"
   ]
  },
  {
   "cell_type": "code",
   "execution_count": 110,
   "metadata": {},
   "outputs": [],
   "source": [
    "param_grid = { \n",
    "    'n_estimators': [100, 150, 200, 250],\n",
    "    'criterion': ['gini'],\n",
    "    'max_depth': range(1,10),\n",
    "    'max_features': ['auto']\n",
    "}#the hyper parameters I will test"
   ]
  },
  {
   "cell_type": "code",
   "execution_count": 102,
   "metadata": {},
   "outputs": [],
   "source": [
    "#instanting the search\n",
    "grid_tree = GridSearchCV(RandomForestClassifier(), param_grid, cv=10, scoring='accuracy', verbose=1, n_jobs=-1)"
   ]
  },
  {
   "cell_type": "code",
   "execution_count": 103,
   "metadata": {},
   "outputs": [
    {
     "name": "stdout",
     "output_type": "stream",
     "text": [
      "Fitting 10 folds for each of 36 candidates, totalling 360 fits\n"
     ]
    },
    {
     "name": "stderr",
     "output_type": "stream",
     "text": [
      "[Parallel(n_jobs=-1)]: Using backend LokyBackend with 4 concurrent workers.\n",
      "[Parallel(n_jobs=-1)]: Done  42 tasks      | elapsed:   11.0s\n",
      "[Parallel(n_jobs=-1)]: Done 192 tasks      | elapsed:   44.1s\n",
      "[Parallel(n_jobs=-1)]: Done 360 out of 360 | elapsed:  1.7min finished\n"
     ]
    },
    {
     "data": {
      "text/plain": [
       "GridSearchCV(cv=10, estimator=RandomForestClassifier(), n_jobs=-1,\n",
       "             param_grid={'criterion': ['gini'], 'max_depth': range(1, 10),\n",
       "                         'max_features': ['auto'],\n",
       "                         'n_estimators': [100, 150, 200, 250]},\n",
       "             scoring='accuracy', verbose=1)"
      ]
     },
     "execution_count": 103,
     "metadata": {},
     "output_type": "execute_result"
    }
   ],
   "source": [
    "grid_tree.fit(X_train, y_train)"
   ]
  },
  {
   "cell_type": "code",
   "execution_count": 109,
   "metadata": {},
   "outputs": [
    {
     "data": {
      "text/plain": [
       "{'criterion': 'gini',\n",
       " 'max_depth': 9,\n",
       " 'max_features': 'auto',\n",
       " 'n_estimators': 200}"
      ]
     },
     "execution_count": 109,
     "metadata": {},
     "output_type": "execute_result"
    }
   ],
   "source": [
    "grid_tree.best_params_"
   ]
  },
  {
   "cell_type": "markdown",
   "metadata": {},
   "source": [
    "Looks like a max depth of nine was already a sweet spot, so this overfit model is the best we can do with only tuning our hyperparameters"
   ]
  }
 ],
 "metadata": {
  "kernelspec": {
   "display_name": "learn-env",
   "language": "python",
   "name": "learn-env"
  },
  "language_info": {
   "codemirror_mode": {
    "name": "ipython",
    "version": 3
   },
   "file_extension": ".py",
   "mimetype": "text/x-python",
   "name": "python",
   "nbconvert_exporter": "python",
   "pygments_lexer": "ipython3",
   "version": "3.6.9"
  },
  "toc": {
   "base_numbering": 1,
   "nav_menu": {},
   "number_sections": true,
   "sideBar": true,
   "skip_h1_title": false,
   "title_cell": "Table of Contents",
   "title_sidebar": "Contents",
   "toc_cell": false,
   "toc_position": {
    "height": "calc(100% - 180px)",
    "left": "10px",
    "top": "150px",
    "width": "332.594px"
   },
   "toc_section_display": true,
   "toc_window_display": true
  }
 },
 "nbformat": 4,
 "nbformat_minor": 4
}
